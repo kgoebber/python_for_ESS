{
 "cells": [
  {
   "cell_type": "markdown",
   "id": "b97a65b0-fce8-4038-a11c-5c9616b58ef0",
   "metadata": {
    "nbpresent": {
     "id": "c23ee487-d6e2-4432-b942-55c32107af6c"
    },
    "slideshow": {
     "slide_type": "slide"
    }
   },
   "source": [
    "# Introduction to Python\n",
    "\n",
    "The required textbook for this calss is \"Python Programming and Visualization for Scientists, 2nd Ed.\" by Alex DeCaria. This is an excellent reference text for many of the concepts and skills related to Python that you will use over the course of the semester. At various points throughout the various Jupyter Notebooks that we'll use for lecture I point to a REF in the DeCaria text that aligns with the concept being taught. Please be sure to utilize this reference to fill gaps left by the limited time in class and lecture."
   ]
  },
  {
   "cell_type": "markdown",
   "id": "0de6ddb1-f4b3-4af9-90d8-fd833a6b3395",
   "metadata": {
    "nbpresent": {
     "id": "2d0afcac-ac14-4728-8ef0-5a2aff4925bb"
    },
    "slideshow": {
     "slide_type": "slide"
    }
   },
   "source": [
    "## Variable Assignment\n",
    "\n",
    "REF: DeCaria Section 2.2\n",
    "\n",
    "* No need to declare variable types! Python will assume a type based on the value assigned to variable name.\n"
   ]
  },
  {
   "cell_type": "code",
   "execution_count": null,
   "id": "ce7dbb6c-7c16-4c73-8ffa-0b71f23e3b6d",
   "metadata": {},
   "outputs": [],
   "source": [
    "# Assumes type based on value given\n",
    "# Following is a string (character) type\n",
    "name = 'Kevin'\n",
    "\n",
    "# Following is an integer type\n",
    "temp = 20"
   ]
  },
  {
   "cell_type": "code",
   "execution_count": null,
   "id": "d33f4a13-f82d-4933-821b-6055088b636a",
   "metadata": {},
   "outputs": [],
   "source": []
  },
  {
   "cell_type": "markdown",
   "id": "a0523062-0b9f-43b6-82a3-5eb37fb0b2a3",
   "metadata": {},
   "source": [
    "### Reserved Words\n",
    "\n",
    "There are a number of words that you should not use to define a variable, becuase that words serves a very specific functionality within the Python language. The words to avoid are:\n",
    "\n",
    "| reserved | words | don't | use |\n",
    "| -- | -- | -- | -- |\n",
    "|`False`|`def`|`if`|`raise`|\n",
    "|`None`|`del`|`import`|`return`|\n",
    "|`True`|`elif`|`in`|`try`|\n",
    "|`and`|`else`|`is`|`while`|\n",
    "|`as`|`except`|`lambda`|`with`|\n",
    "|`assert`|`finally`|`nonlocal`|`yield`|\n",
    "|`break`|`for`|`not`||\n",
    "|`class`|`from`|`or`||\n",
    "|`continue`|`global`|`pass`||"
   ]
  },
  {
   "cell_type": "code",
   "execution_count": 2,
   "id": "4ce3f0d3-976b-4ff7-9da8-efb74ba6f8a8",
   "metadata": {},
   "outputs": [
    {
     "name": "stdout",
     "output_type": "stream",
     "text": [
      "\n",
      "Here is a list of the Python keywords.  Enter any keyword to get more help.\n",
      "\n",
      "False               class               from                or\n",
      "None                continue            global              pass\n",
      "True                def                 if                  raise\n",
      "and                 del                 import              return\n",
      "as                  elif                in                  try\n",
      "assert              else                is                  while\n",
      "async               except              lambda              with\n",
      "await               finally             nonlocal            yield\n",
      "break               for                 not                 \n",
      "\n"
     ]
    }
   ],
   "source": [
    "help('keywords')"
   ]
  },
  {
   "cell_type": "markdown",
   "id": "4a427b3e-bea2-4a77-8508-bd19bc79b313",
   "metadata": {},
   "source": [
    "## Print Function\n",
    "\n",
    "To print a variable, simply put the variable in the print statement.\n",
    "\n",
    "```python\n",
    "print(name)\n",
    "```\n",
    "\n",
    "Output:\n",
    "```\n",
    "Kevin\n",
    "```\n",
    "\n",
    "To print a variable as part of a string, you can use an 'f-string'. Place an f before the beginning of string statement and use curly brackets (e.g., {}) to call the variable you wish to print in the statement.\n",
    "\n",
    "```python\n",
    "print(f'My name is {name}')\n",
    "```\n",
    "\n",
    "Output:\n",
    "```\n",
    "My name is Kevin\n",
    "```"
   ]
  },
  {
   "cell_type": "code",
   "execution_count": null,
   "id": "55e9bc3f-a012-4470-9700-af70ba064c3d",
   "metadata": {},
   "outputs": [],
   "source": []
  },
  {
   "cell_type": "markdown",
   "id": "bce811c2-8fe1-48fc-8f8c-418fc5cdea0a",
   "metadata": {},
   "source": [
    "## Code Comments\n",
    "\n",
    "It is imperative that you comment your code to ensure you remember what pieces of your code are doing. This will help when you come back to old code after a period of time or share your code with someone else. Comments can be made in two primary ways, through stand alone comments on one line or inline, either way you want to use the special character `#`, which is officially known as an octothorp or better known to you as a hashtag.\n",
    "\n",
    "Any line that starts with a `#` will not be executed at runtime. Any line that has a `#` in it, nothing will be executed after that symbol.\n",
    "\n",
    "```python\n",
    "# This is a comment and won't be executed\n",
    "# The following line is executable code\n",
    "print('Hello') # this is an inline comment\n",
    "```\n",
    "\n",
    "Output\n",
    "```python\n",
    "Hello\n",
    "```"
   ]
  },
  {
   "cell_type": "code",
   "execution_count": null,
   "id": "e5c3c310-cf73-4486-819f-3c507a01bbf5",
   "metadata": {},
   "outputs": [],
   "source": []
  }
 ],
 "metadata": {
  "kernelspec": {
   "display_name": "Python 3 (ipykernel)",
   "language": "python",
   "name": "python3"
  },
  "language_info": {
   "codemirror_mode": {
    "name": "ipython",
    "version": 3
   },
   "file_extension": ".py",
   "mimetype": "text/x-python",
   "name": "python",
   "nbconvert_exporter": "python",
   "pygments_lexer": "ipython3",
   "version": "3.8.6"
  }
 },
 "nbformat": 4,
 "nbformat_minor": 5
}
