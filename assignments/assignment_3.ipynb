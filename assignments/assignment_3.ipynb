{
 "cells": [
  {
   "cell_type": "markdown",
   "id": "672684ea-1e2e-4b03-aa2a-7d2477fd29e7",
   "metadata": {},
   "source": [
    "# Assignment #3\n",
    "\n",
    "This assignment can be completed by adding code to this notebook for each question.\n",
    "\n",
    "Turn in a completed notebook, renamed as\n",
    "\n",
    "`assignment3_<username>.ipynb`\n",
    "\n",
    "with your `<username>` being your DataVU login name (e.g., mine is `kgoebber`) to `/archive/courses/met290/assignment3` via the Linux computing system.\n",
    "\n",
    "**DUE DATE: 8 October 2021 at 4 pm.**\n",
    "\n",
    "Prior to turning in your notebook, please cleanup and comment your code for each problem. Be sure that your output is self-describing"
   ]
  },
  {
   "cell_type": "markdown",
   "id": "4a064837-c3fa-415d-93bc-ab31b2192056",
   "metadata": {},
   "source": [
    "## Question #1\n",
    "Write Python code that will read in five pressures from a file called pressures.dat and compute the average. If the average of the pressures is greater than 1020 hPa alert that pressure is high, if it is lower than 1000 hPa alter that the pressure is low, otherwise alert that the pressure is normal. Collect a random sample of 100 pressure values and compute the average pressure. Pressures in the file are in hPa.\n",
    "\n",
    "File is located in */archive/courses/met290/pressures.dat*\n",
    "\n",
    "Notes:\n",
    "* Make sure documentation (e.g., comment block and comments throughout code) is present in your source code\n",
    "* Make output informative so that anyone running your program understand what is being produced without seeing the assignment.\n"
   ]
  },
  {
   "cell_type": "code",
   "execution_count": null,
   "id": "f4f69fc4-1c75-4009-a8d6-bcdaf33dffac",
   "metadata": {},
   "outputs": [],
   "source": []
  },
  {
   "cell_type": "markdown",
   "id": "62bfeabc-7039-46a0-be00-c5465c37f6c8",
   "metadata": {},
   "source": [
    "## Question #2\n",
    "Read in a dataset that contains a number of latitude/longitude pairs in each row and write Python code to calculate the great circle distance between two latitude/longitude points.\n",
    "\n",
    "The great circle distance can be calculated in the following manner using the haversine formula:\n",
    "\n",
    "$a =  sin^2(\\Delta \\phi / 2) + cos \\phi_1 * cos \\phi_2 * sin^2(\\Delta \\lambda/2)$\n",
    "\n",
    "$\\Delta \\phi = (\\phi_2 - \\phi_1) $\n",
    "\n",
    "$\\Delta \\lambda = (\\lambda_2 - \\lambda_1) $\n",
    "\n",
    "$c = 2 * atan2(\\sqrt a, \\sqrt(1-a))$\n",
    "\n",
    "$d = R * c $\n",
    "\n",
    "where d is the distance bewtween the two points, $\\phi$ is latitude, $\\lambda$ is longitude, R is earth’s radius (mean radius = 6,371km);\n",
    "note that angles need to be in radians to pass to trig functions!\n",
    "\n",
    "Input: Latitude/Longitude points from destination_locations.txt (Available in */archive/courses/met290/*)\n",
    "\n",
    "Output: Original Latitude/Longitude Points and the Distance in kilometers between them for each latitude/longitude pair and identify the shortest and longest distances between points in the dataset.\n",
    "\n",
    "```\n",
    "Example Calculation #1:\n",
    "\n",
    "Lat1/Lon1: 42.3/-101.3\n",
    "\n",
    "Lat2/Lon2: 39.35/-87.1\n",
    "\n",
    "Distance: 1237 km\n",
    "\n",
    "\n",
    "Example Calculation #2:\n",
    "\n",
    "Lat1/Lon1: 52.3/0.5\n",
    "\n",
    "Lat2/Lon2: 42.5/-88.1\n",
    "\n",
    "Distance: 6271 km\n",
    "```"
   ]
  },
  {
   "cell_type": "code",
   "execution_count": null,
   "id": "9be85438-1451-4f44-9dc7-d9027ee3941b",
   "metadata": {},
   "outputs": [],
   "source": []
  },
  {
   "cell_type": "markdown",
   "id": "e736bd8a-b277-4ce9-ad81-5f18c6c4298d",
   "metadata": {},
   "source": [
    "## Question #3\n",
    "Write Python code to determine the months that the standardized Southern Oscillation Index (SOI) indicate El Nino conditions (for simplicity defined for this assignment as SOI < -1.25) or La Nina conditions (for simplicity defined for this assignment as SOI > 1.25). Report the actual SOI value, the month and year it occurred, and whether this is indicative of El Nino or La Nina conditions over the period 1951 to current. Additionally, determine the maximum and minimum value SOI over the entire period, reporting the month and year they occurred in. Print the results to the screen.\n",
    "\n",
    "Input File: soi_data.txt (Available in */archive/courses/met290*)\n",
    "\n",
    "Output:\n",
    "* The average SOI value for each year\n",
    "* The maximum SOI value for each year\n",
    "* The minimum SOI value for each year\n",
    "* The total number of months spent in La Nina for the dataset\n",
    "* The total number of months spent in El Nino for the dataset\n",
    "\n",
    "**Background**\n",
    "\n",
    "The Southern Oscillation Index (SOI) is a measure of the difference between sea level pressure in Tahiti and Darwin, Australian, which gives a proxy for shifts in the Walker Circulation and thus the El Nino – Southern Oscillation (ENSO). There are many other ways to define ENSO periods and a good resource for background information can be found at: https://www.climate.gov/news-features/blogs/enso/why-are-there-so-many-enso-indexes-instead-just-one.\n",
    "\n",
    "Generally, an El Nino or La Nina event cannot be determined from any one month of an ENSO index, however, for simplicity here we define an El Nino event when the SOI value is below -1.25 for any particular month and a La Nina event when the SOI value is above 1.25 for any particular month.\n",
    "\n",
    "Notes:\n",
    "* Break the problem down into smaller bite size pieces. For example, first write your program to be able to read in the input file and separate out the year column from the SOI data columns. Then work to find the global max and min values. Then work on finding individual months that can be classified as El Nino, etc.\n",
    "* Make sure to regularly save your work.\n",
    "* Be sure to verify that your results are correct.\n",
    "\n",
    "Please make your program to produce output in the same fashion as the test cases below.\n",
    "\n",
    "Example Output (Fake Data)\n",
    "\n",
    "\\>>>\n",
    "\n",
    "El Nino: February 2020\n",
    "\n",
    "SOI: -3.5\n",
    "\n",
    "\n",
    "La Nina: July 2021\n",
    "\n",
    "SOI: 1.4\n",
    "\n",
    ".\n",
    "\n",
    ".\n",
    "\n",
    ".\n",
    "\n",
    ".\n",
    "\n",
    "Max SOI of 2.2 in October 2050\n",
    "\n",
    "Min SOI of -3.1 in December 2024\n",
    "\n",
    "Number of La Nina Months: 25\n",
    "\n",
    "Number of El Nino Months: 33\n",
    "\n",
    "\\>>>\n"
   ]
  },
  {
   "cell_type": "code",
   "execution_count": null,
   "id": "34178e7e-e628-4e71-9570-d9547af374ce",
   "metadata": {},
   "outputs": [],
   "source": [
    "\n"
   ]
  },
  {
   "cell_type": "markdown",
   "id": "f2daa0f6-8ced-4f90-ba94-e36fc710f675",
   "metadata": {},
   "source": [
    "## Question #4\n"
   ]
  },
  {
   "cell_type": "code",
   "execution_count": null,
   "id": "0bd6b788-5093-4806-9058-9f27b5874d4b",
   "metadata": {},
   "outputs": [],
   "source": []
  },
  {
   "cell_type": "markdown",
   "id": "47c664ab-6813-432f-b894-5b65727839bc",
   "metadata": {},
   "source": [
    "## Question #5\n"
   ]
  },
  {
   "cell_type": "code",
   "execution_count": null,
   "id": "db538159-ab69-4286-8b6e-0723fd62f270",
   "metadata": {},
   "outputs": [],
   "source": []
  }
 ],
 "metadata": {
  "kernelspec": {
   "display_name": "Python 3 (ipykernel)",
   "language": "python",
   "name": "python3"
  },
  "language_info": {
   "codemirror_mode": {
    "name": "ipython",
    "version": 3
   },
   "file_extension": ".py",
   "mimetype": "text/x-python",
   "name": "python",
   "nbconvert_exporter": "python",
   "pygments_lexer": "ipython3",
   "version": "3.8.6"
  }
 },
 "nbformat": 4,
 "nbformat_minor": 5
}
